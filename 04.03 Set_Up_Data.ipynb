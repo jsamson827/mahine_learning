{
  "nbformat": 4,
  "nbformat_minor": 0,
  "metadata": {
    "colab": {
      "name": "Set Up Data.ipynb",
      "provenance": []
    },
    "kernelspec": {
      "name": "python3",
      "display_name": "Python 3"
    }
  },
  "cells": [
    {
      "cell_type": "code",
      "metadata": {
        "id": "Ut8Prikkhdxz",
        "colab_type": "code",
        "colab": {
          "base_uri": "https://localhost:8080/",
          "height": 54
        },
        "outputId": "134460b5-0ad8-453c-afa2-d0b3f4c6cb9b"
      },
      "source": [
        "from google.colab import drive\n",
        "drive.mount(\"/content/gdrive\")\n",
        "\n",
        "import pandas as pd\n",
        "\n",
        "from sklearn.model_selection import train_test_split\n",
        "from sklearn.preprocessing import StandardScaler\n",
        "\n",
        "destination_filename = \"/content/gdrive/My Drive/\" + \"player_data.csv\"\n",
        "\n",
        "players = pd.read_csv(destination_filename,\n",
        "                      names = [\"Team\", \n",
        "                               \"Wins\", \n",
        "                               \"Losses\",\n",
        "                               \"Coins Collected\",\n",
        "                               \"Quests\",\n",
        "                               \"Red Color\",\n",
        "                               \"Armor Lost\",\n",
        "                               \"Fans\",\n",
        "                               \"Mentions\",\n",
        "                               \"Days on Team\",\n",
        "                               \"Timeouts\",\n",
        "                               \"Blue Color\",\n",
        "                               \"Green Color\"])\n",
        "\n",
        "players.head()\n",
        "players.shape\n",
        "players.describe().transpose()\n",
        "\n",
        "x = players.drop(\"Team\", axis=1)\n",
        "y = players[\"Team\"]\n",
        "\n",
        "x_train, x_test, y_train, y_test = train_test_split(x, y)\n",
        "\n",
        "scaler = StandardScaler()\n",
        "\n",
        "scaler.fit(x_train)\n",
        "\n",
        "StandardScaler(copy=True, with_mean=True, with_std=True)\n",
        "\n",
        "x_train = scaler.transform(x_train)\n",
        "x_test  = scaler.transform(x_test)\n",
        "\n",
        "\n"
      ],
      "execution_count": 5,
      "outputs": [
        {
          "output_type": "stream",
          "text": [
            "Drive already mounted at /content/gdrive; to attempt to forcibly remount, call drive.mount(\"/content/gdrive\", force_remount=True).\n"
          ],
          "name": "stdout"
        }
      ]
    }
  ]
}