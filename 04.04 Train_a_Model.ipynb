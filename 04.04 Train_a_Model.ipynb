{
  "nbformat": 4,
  "nbformat_minor": 0,
  "metadata": {
    "colab": {
      "name": "Make a Prediction.ipynb",
      "provenance": []
    },
    "kernelspec": {
      "name": "python3",
      "display_name": "Python 3"
    }
  },
  "cells": [
    {
      "cell_type": "code",
      "metadata": {
        "id": "Ut8Prikkhdxz",
        "colab_type": "code",
        "colab": {
          "base_uri": "https://localhost:8080/",
          "height": 319
        },
        "outputId": "29ee43d6-45c6-4198-a9b6-5a9c83459515"
      },
      "source": [
        "import pandas as pd\n",
        "\n",
        "from google.colab import drive\n",
        "drive.mount(\"/content/gdrive\")\n",
        "\n",
        "import sklearn\n",
        "from sklearn.model_selection import train_test_split\n",
        "from sklearn.preprocessing import StandardScaler\n",
        "from sklearn.neural_network import MLPClassifier\n",
        "from sklearn.metrics import confusion_matrix\n",
        "from sklearn.metrics import classification_report\n",
        "\n",
        "destination_filename = \"/content/gdrive/My Drive/\" + 'player_data.csv'\n",
        "\n",
        "players = pd.read_csv(destination_filename,  \n",
        "                   names = [\"Team\",\t\"Wins\",\t\"Losses\",\t\"Coins Collected\",\t\"Power Ups\",\n",
        "                            \"Quests\",\t\"Red Color\",\t\"Armor Lost\",\n",
        "                            \"Fans\",\t\"Mentions\",\t\"Days on Team\",\t\n",
        "                            \"Timeouts\",\n",
        "                            \"Blue Color\",\t\"Green Color\"])\n",
        "\n",
        "players.head()\n",
        "players.describe().transpose()\n",
        "players.shape\n",
        "\n",
        "X = players.drop('Team',axis=1)\n",
        "y = players['Team']\n",
        " \n",
        "X_train, X_test, y_train, y_test = train_test_split(X, y)\n",
        "\n",
        " \n",
        "scaler = StandardScaler()\n",
        " \n",
        "scaler.fit(X_train)\n",
        " \n",
        "StandardScaler(copy=True, with_mean=True, with_std=True)\n",
        " \n",
        "X_train = scaler.transform(X_train)\n",
        "X_test = scaler.transform(X_test)\n",
        "\n",
        "\n",
        "mlp = MLPClassifier(hidden_layer_sizes=(13,13,13), max_iter=400)\n",
        "\n",
        "mlp.fit(X_train,y_train)\n",
        "\n",
        "\n",
        "\n"
      ],
      "execution_count": 3,
      "outputs": [
        {
          "output_type": "stream",
          "text": [
            "Drive already mounted at /content/gdrive; to attempt to forcibly remount, call drive.mount(\"/content/gdrive\", force_remount=True).\n",
            "[[16  0  0]\n",
            " [ 1 15  1]\n",
            " [ 0  0 10]]\n",
            "              precision    recall  f1-score   support\n",
            "\n",
            "           1       0.94      1.00      0.97        16\n",
            "           2       1.00      0.88      0.94        17\n",
            "           3       0.91      1.00      0.95        10\n",
            "\n",
            "    accuracy                           0.95        43\n",
            "   macro avg       0.95      0.96      0.95        43\n",
            "weighted avg       0.96      0.95      0.95        43\n",
            "\n"
          ],
          "name": "stdout"
        },
        {
          "output_type": "stream",
          "text": [
            "/usr/local/lib/python3.6/dist-packages/sklearn/neural_network/_multilayer_perceptron.py:571: ConvergenceWarning: Stochastic Optimizer: Maximum iterations (400) reached and the optimization hasn't converged yet.\n",
            "  % self.max_iter, ConvergenceWarning)\n"
          ],
          "name": "stderr"
        }
      ]
    }
  ]
}