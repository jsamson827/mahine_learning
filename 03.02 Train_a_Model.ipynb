{
  "nbformat": 4,
  "nbformat_minor": 0,
  "metadata": {
    "colab": {
      "name": "Train a Model.ipynb",
      "provenance": []
    },
    "kernelspec": {
      "name": "python3",
      "display_name": "Python 3"
    }
  },
  "cells": [
    {
      "cell_type": "code",
      "metadata": {
        "id": "h3Ht7v1PKmB2",
        "colab_type": "code",
        "colab": {
          "base_uri": "https://localhost:8080/",
          "height": 54
        },
        "outputId": "8f5eb2bc-12a3-4089-cedb-41f840d1cd0f"
      },
      "source": [
        "import pandas as pd\n",
        "\n",
        "from google.colab import drive\n",
        "drive.mount(\"/content/gdrive\")\n",
        "\n",
        "from sklearn.model_selection import train_test_split\n",
        "from sklearn.tree import DecisionTreeClassifier\n",
        "\n",
        "dataset = pd.read_csv(\"/content/gdrive/My Drive/\" +\n",
        "                      \"animals.csv\")\n",
        "\n",
        "targets  = dataset[\"name\"]\n",
        "features = dataset.drop(\"name\", axis=1)\n",
        "\n",
        "train_features, test_features, train_targets, test_targets = \\\n",
        "  train_test_split(features, targets, train_size=0.75)\n",
        "\n",
        "tree = DecisionTreeClassifier(criterion = \"entropy\", \n",
        "                              max_depth = 5)\n",
        "tree = tree.fit(train_features, train_targets)\n",
        "\n",
        "\n"
      ],
      "execution_count": 14,
      "outputs": [
        {
          "output_type": "stream",
          "text": [
            "Drive already mounted at /content/gdrive; to attempt to forcibly remount, call drive.mount(\"/content/gdrive\", force_remount=True).\n"
          ],
          "name": "stdout"
        }
      ]
    }
  ]
}